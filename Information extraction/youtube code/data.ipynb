{
 "cells": [
  {
   "cell_type": "code",
   "execution_count": 7,
   "metadata": {},
   "outputs": [
    {
     "name": "stdout",
     "output_type": "stream",
     "text": [
      "[Python is an interpreted, high-level and general-purpose programming languagePythons design philosophy emphasizes code readability withits notable use of significant indentation., Its language constructs and object-oriented approach aim tohelp programmers write clear andlogical code for small and large-scale projects]\n",
      "Python\n",
      "is\n",
      "an\n",
      "interpreted\n",
      ",\n",
      "high\n",
      "-\n",
      "level\n",
      "and\n",
      "general\n",
      "-\n",
      "purpose\n",
      "programming\n",
      "languagePythons\n",
      "design\n",
      "philosophy\n",
      "emphasizes\n",
      "code\n",
      "readability\n",
      "withits\n",
      "notable\n",
      "use\n",
      "of\n",
      "significant\n",
      "indentation\n",
      ".\n",
      "Its\n",
      "language\n",
      "constructs\n",
      "and\n",
      "object\n",
      "-\n",
      "oriented\n",
      "approach\n",
      "aim\n",
      "tohelp\n",
      "programmers\n",
      "write\n",
      "clear\n",
      "andlogical\n",
      "code\n",
      "for\n",
      "small\n",
      "and\n",
      "large\n",
      "-\n",
      "scale\n",
      "projects\n",
      "[]\n"
     ]
    },
    {
     "data": {
      "text/html": [
       "<span class=\"tex2jax_ignore\"><div class=\"entities\" style=\"line-height: 2.5; direction: ltr\">Python is an interpreted, high-level and general-purpose programming languagePythons design philosophy emphasizes code readability withits notable use of significant indentation.Its language constructs and object-oriented approach aim tohelp programmers write clear andlogical code for small and large-scale projects</div></span>"
      ],
      "text/plain": [
       "<IPython.core.display.HTML object>"
      ]
     },
     "metadata": {},
     "output_type": "display_data"
    },
    {
     "name": "stderr",
     "output_type": "stream",
     "text": [
      "[nltk_data] Downloading package words to\n",
      "[nltk_data]     C:\\Users\\anifa\\AppData\\Roaming\\nltk_data...\n",
      "[nltk_data]   Unzipping corpora\\words.zip.\n",
      "[nltk_data] Downloading package punkt to\n",
      "[nltk_data]     C:\\Users\\anifa\\AppData\\Roaming\\nltk_data...\n",
      "[nltk_data]   Unzipping tokenizers\\punkt.zip.\n",
      "[nltk_data] Downloading package maxent_ne_chunker to\n",
      "[nltk_data]     C:\\Users\\anifa\\AppData\\Roaming\\nltk_data...\n",
      "[nltk_data]   Unzipping chunkers\\maxent_ne_chunker.zip.\n",
      "[nltk_data] Downloading package averaged_perceptron_tagger to\n",
      "[nltk_data]     C:\\Users\\anifa\\AppData\\Roaming\\nltk_data...\n",
      "[nltk_data]   Unzipping taggers\\averaged_perceptron_tagger.zip.\n",
      "[nltk_data] Downloading package state_union to\n",
      "[nltk_data]     C:\\Users\\anifa\\AppData\\Roaming\\nltk_data...\n",
      "[nltk_data]   Unzipping corpora\\state_union.zip.\n"
     ]
    },
    {
     "ename": "",
     "evalue": "",
     "output_type": "error",
     "traceback": [
      "\u001b[1;31mThe Kernel crashed while executing code in the the current cell or a previous cell. Please review the code in the cell(s) to identify a possible cause of the failure. Click <a href='https://aka.ms/vscodeJupyterKernelCrash'>here</a> for more info. View Jupyter <a href='command:jupyter.viewOutput'>log</a> for further details."
     ]
    }
   ],
   "source": [
    "import spacy\n",
    "from spacy import displacy\n",
    "from spacy import tokenizer\n",
    "nlp = spacy.load('en_core_web_sm')\n",
    " \n",
    "#Load the text and process it\n",
    "# I copied the text from python wiki\n",
    "text =(\"Python is an interpreted, high-level and general-purpose programming language\"\n",
    "       \"Pythons design philosophy emphasizes code readability with\"\n",
    "       \"its notable use of significant indentation.\"\n",
    "       \"Its language constructs and object-oriented approach aim to\"\n",
    "       \"help programmers write clear and\"\n",
    "       \"logical code for small and large-scale projects\")\n",
    "# text2 = # copy the paragraphs from  https://www.python.org/doc/essays/\n",
    "doc = nlp(text)\n",
    "#doc2 = nlp(text2)\n",
    "sentences = list(doc.sents)\n",
    "print(sentences)\n",
    "# tokenization\n",
    "for token in doc:\n",
    "    print(token.text)\n",
    "# print entities\n",
    "ents = [(e.text, e.start_char, e.end_char, e.label_) for e in doc.ents]\n",
    "print(ents)\n",
    "# now we use displaycy function on doc2\n",
    "displacy.render(doc, style='ent', jupyter=True)\n"
   ]
  }
 ],
 "metadata": {
  "kernelspec": {
   "display_name": "aniket",
   "language": "python",
   "name": "python3"
  },
  "language_info": {
   "codemirror_mode": {
    "name": "ipython",
    "version": 3
   },
   "file_extension": ".py",
   "mimetype": "text/x-python",
   "name": "python",
   "nbconvert_exporter": "python",
   "pygments_lexer": "ipython3",
   "version": "3.8.13"
  },
  "orig_nbformat": 4
 },
 "nbformat": 4,
 "nbformat_minor": 2
}
